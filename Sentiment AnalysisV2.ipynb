{
 "cells": [
  {
   "cell_type": "markdown",
   "metadata": {},
   "source": [
    "# Reference \n",
    "https://www.kaggle.com/bittlingmayer/amazonreviews/home <br>\n",
    "http://blog.conceptnet.io/posts/2017/how-to-make-a-racist-ai-without-really-trying/<br>\n",
    "http://mlg.ucd.ie/datasets/bbc.html<br>\n",
    "https://en.wikipedia.org/wiki/Sentiment_analysis<br>\n",
    "https://machinelearningmastery.com/prepare-text-data-deep-learning-keras/<br>\n",
    "https://skymind.ai/wiki/bagofwords-tf-idf<br>\n",
    "https://www.tensorflow.org/tutorials/representation/word2vec<br>\n",
    "https://skymind.ai/wiki/word2vec<br>\n",
    "http://ruder.io/word-embeddings-1/<br>\n",
    "Mikolov, T., Corrado, G., Chen, K., & Dean, J. (2013). Efficient Estimation of Word Representations in Vector Space. Proceedings of the International Conference on Learning Representations (ICLR 2013), 1–12. ↩︎\n",
    "\n",
    "Mikolov, T., Chen, K., Corrado, G., & Dean, J. (2013). Distributed Representations of Words and Phrases and their Compositionality. NIPS, 1–9. ↩︎"
   ]
  },
  {
   "cell_type": "markdown",
   "metadata": {},
   "source": [
    "# EMIS/CSE 8331: Data Mining, Spring 2019\n",
    "# Hands on sentiment analysis \n",
    "## Present by Xingming Qu"
   ]
  },
  {
   "cell_type": "markdown",
   "metadata": {},
   "source": [
    "\n",
    "# What is Sentiment Analysis\n",
    "\n",
    "Sentiment analysis is ubiquitous, and it is a classification technique based on natural language processing. The main problem to be solved is to judge whether a sentence (or an article) is positive or negative. \n",
    "##  Why we need Sentiment Analysis\n",
    "Dealing with sentiment analysis can greatly improve people's understanding of things, and can also use the conclusions of sentiment analysis to serve other people or things. \n",
    "\n",
    "---\n",
    "For example, government can understand citizens' sentiment towards popular events. Therefore, they are able to grasp the public opinion orientation, and conduct public opinion monitoring in a timely and effective manner. \n"
   ]
  },
  {
   "cell_type": "markdown",
   "metadata": {},
   "source": [
    "## In this tutorial, we will mainly focus on\n",
    "###  +Prepare Text Data for Deep Learning with Keras\n",
    "    1. Tokenize Words \n",
    "    2. The feature of the document\n",
    "    3. Word Embedding. \n",
    "        --Continuous Bag of Words Model (CBOW)\n",
    "        --Skip-gram\n",
    "    \n",
    "### +Semantic analysis based on dictionary (old way).\n",
    "### +Semantic analysis based on deep learning\n",
    "    1. Sequence processing with RNN(LSTM) \n",
    "    2. Sequence processing with 1-d Convolution  "
   ]
  },
  {
   "cell_type": "markdown",
   "metadata": {},
   "source": [
    "### OK! Let's start our tutorial!"
   ]
  },
  {
   "cell_type": "code",
   "execution_count": 7,
   "metadata": {},
   "outputs": [
    {
     "data": {
      "text/html": [
       "<img src=\"https://images-na.ssl-images-amazon.com/images/I/41pih9cD1-L._SX355_.jpg\" width=\"400\" height=\"400\"/>"
      ],
      "text/plain": [
       "<IPython.core.display.Image object>"
      ]
     },
     "execution_count": 7,
     "metadata": {},
     "output_type": "execute_result"
    }
   ],
   "source": [
    "from IPython.display import Image\n",
    "from IPython.core.display import HTML \n",
    "from keras.models import Model, Sequential\n",
    "from keras.layers import Dense, Embedding, Input, Conv1D, GlobalMaxPool1D, Dropout, concatenate, Layer, InputSpec, CuDNNLSTM\n",
    "from keras.preprocessing import text, sequence\n",
    "from keras.callbacks import EarlyStopping, ModelCheckpoint\n",
    "from keras import backend as K\n",
    "from keras import activations, initializers, regularizers, constraints\n",
    "from keras.utils.conv_utils import conv_output_length\n",
    "from keras.regularizers import l2\n",
    "from keras.constraints import maxnorm\n",
    "import numpy as np\n",
    "import pandas as pd\n",
    "import os,shutil\n",
    "import warnings\n",
    "Image(url=\"https://images-na.ssl-images-amazon.com/images/I/41pih9cD1-L._SX355_.jpg\", width=400, height=400)"
   ]
  },
  {
   "cell_type": "markdown",
   "metadata": {},
   "source": [
    "# 1.Prepare Text Data for Deep Learning with Keras\n",
    "## 1.1 Tokenize Words\n",
    "Tokenization is a way to split text into tokens. These tokens could be paragraphs, sentences, individual words or even characters. \n",
    "Most of the time we use split text into words<br>\n",
    "https://machinelearningmastery.com/prepare-text-data-deep-learning-keras/"
   ]
  },
  {
   "cell_type": "code",
   "execution_count": 8,
   "metadata": {},
   "outputs": [],
   "source": [
    "docs = [' test Tokenize Words!',\n",
    "        ' test This is the corpus~~~~~',\n",
    "        'test Use Kears Tokenize?!@#',\n",
    "        'test test test test...',\n",
    "        '  ']\n",
    "\n",
    "from keras.preprocessing.text import Tokenizer\n",
    "t = Tokenizer()\n",
    "# fit the tokenizer on the documents\n",
    "t.fit_on_texts(docs)"
   ]
  },
  {
   "cell_type": "code",
   "execution_count": 9,
   "metadata": {},
   "outputs": [
    {
     "name": "stdout",
     "output_type": "stream",
     "text": [
      "OrderedDict([('test', 7), ('tokenize', 2), ('words', 1), ('this', 1), ('is', 1), ('the', 1), ('corpus', 1), ('use', 1), ('kears', 1)])\n",
      "5\n",
      "{'test': 1, 'tokenize': 2, 'words': 3, 'this': 4, 'is': 5, 'the': 6, 'corpus': 7, 'use': 8, 'kears': 9}\n",
      "defaultdict(<class 'int'>, {'words': 1, 'test': 4, 'tokenize': 2, 'the': 1, 'is': 1, 'corpus': 1, 'this': 1, 'use': 1, 'kears': 1})\n"
     ]
    }
   ],
   "source": [
    "# Once fit, the Tokenizer provides 4 attributes \n",
    "# that you can use to query what has been learned about your documents:\n",
    "print(t.word_counts)  # A dictionary of words and their counts.\n",
    "print(t.document_count) #  A dictionary of words and how many documents each appeared in.\n",
    "print(t.word_index)  #  A dictionary of words and their uniquely assigned integers.\n",
    "print(t.word_docs)  # An integer count of the total number of documents that were used to fit the Tokenizer."
   ]
  },
  {
   "cell_type": "markdown",
   "metadata": {},
   "source": [
    "## 1.2. The feature of the document\n",
    "### 1.2.1  bag-of-words feature\n",
    "Bag of Words (BoW) is an algorithm that counts how many times a word appears in a document.BoW is a method for preparing text for input in a deep-learning net.\n",
    "\n",
    "Each document --> vector "
   ]
  },
  {
   "cell_type": "code",
   "execution_count": 10,
   "metadata": {},
   "outputs": [
    {
     "name": "stdout",
     "output_type": "stream",
     "text": [
      "test tokenize words this is the corpus use kears\n",
      "[[0. 1. 1. 1. 0. 0. 0. 0. 0. 0.]\n",
      " [0. 1. 0. 0. 1. 1. 1. 1. 0. 0.]\n",
      " [0. 1. 1. 0. 0. 0. 0. 0. 1. 1.]\n",
      " [0. 4. 0. 0. 0. 0. 0. 0. 0. 0.]\n",
      " [0. 0. 0. 0. 0. 0. 0. 0. 0. 0.]]\n"
     ]
    }
   ],
   "source": [
    "docs = [' test Tokenize Words!',\n",
    "        ' test This is the corpus~~~~~',\n",
    "        'test Use Kears Tokenize?!@#',\n",
    "        'test test test test...',\n",
    "        '  ']\n",
    "\n",
    "encoded_docs = t.texts_to_matrix(docs, mode='count')\n",
    "print('test', 'tokenize', 'words', 'this' , 'is', 'the', 'corpus', 'use', 'kears')\n",
    "print(encoded_docs)"
   ]
  },
  {
   "cell_type": "markdown",
   "metadata": {},
   "source": [
    "### 1.2.2  TF IDF  bag-of-words\n",
    "Term-frequency-inverse document frequency (TF-IDF) is another way to judge the topic of an article by the words it contains. With TF-IDF, words are given weight – TF-IDF measures relevance, not frequency. That is, wordcounts are replaced with TF-IDF scores across the whole dataset.\n",
    "\n",
    "<b>Higher weight means this word is more important.\n"
   ]
  },
  {
   "cell_type": "code",
   "execution_count": 11,
   "metadata": {},
   "outputs": [
    {
     "data": {
      "text/html": [
       "<img src=\"https://skymind.ai/images/wiki/tfidf.png\" width=\"400\" height=\"400\"/>"
      ],
      "text/plain": [
       "<IPython.core.display.Image object>"
      ]
     },
     "execution_count": 11,
     "metadata": {},
     "output_type": "execute_result"
    }
   ],
   "source": [
    "Image(url= \"https://skymind.ai/images/wiki/tfidf.png\",width=400, height=400)"
   ]
  },
  {
   "cell_type": "markdown",
   "metadata": {},
   "source": [
    "Example:\n",
    "\n",
    "Consider a document containing 100 words wherein the word cat appears 3 times. The term frequency (i.e., tf) for cat is then (3 / 100) = 0.03. Now, assume we have 10 million documents and the word cat appears in one thousand of these. Then, the inverse document frequency (i.e., idf) is calculated as log(10,000,000 / 1,000) = 4. Thus, the Tf-idf weight is the product of these quantities: 0.03 * 4 = 0.12."
   ]
  },
  {
   "cell_type": "code",
   "execution_count": 12,
   "metadata": {},
   "outputs": [
    {
     "name": "stdout",
     "output_type": "stream",
     "text": [
      "           test     tokenize     words     this     is     the     corpus     use     kears\n",
      "[[0.         0.69314718 0.98082925 1.25276297 0.         0.\n",
      "  0.         0.         0.         0.        ]\n",
      " [0.         0.69314718 0.         0.         1.25276297 1.25276297\n",
      "  1.25276297 1.25276297 0.         0.        ]\n",
      " [0.         0.69314718 0.98082925 0.         0.         0.\n",
      "  0.         0.         1.25276297 1.25276297]\n",
      " [0.         1.65405321 0.         0.         0.         0.\n",
      "  0.         0.         0.         0.        ]\n",
      " [0.         0.         0.         0.         0.         0.\n",
      "  0.         0.         0.         0.        ]]\n"
     ]
    }
   ],
   "source": [
    "docs = [' test Tokenize Words!',\n",
    "        ' test This is the corpus~~~~~',\n",
    "        'test Use Kears Tokenize?!@#',\n",
    "        'test test test test...',\n",
    "        '  ']\n",
    "\n",
    "encoded_docs = t.texts_to_matrix(docs, mode='tfidf')\n",
    "print('           test', '    tokenize', '    words', '    this' , '    is', '    the', '    corpus', '    use', '    kears')\n",
    "print(encoded_docs)"
   ]
  },
  {
   "cell_type": "markdown",
   "metadata": {},
   "source": [
    "## 1.3 Word Embedding.\n"
   ]
  },
  {
   "cell_type": "markdown",
   "metadata": {},
   "source": [
    "Word embedding is one of the most popular representation of document vocabulary. It is capable of capturing context of a word in a document, semantic and syntactic similarity, relation with other words, etc.\n",
    "<br><b> Word embeddings refer to dense representations of words in a low-dimensional vector space\n",
    "    \n",
    "### Why Learn Word Embeddings?"
   ]
  },
  {
   "cell_type": "code",
   "execution_count": 7,
   "metadata": {},
   "outputs": [
    {
     "data": {
      "text/html": [
       "<img src=\"https://www.tensorflow.org/images/audio-image-text.png\" width=\"850\"/>"
      ],
      "text/plain": [
       "<IPython.core.display.Image object>"
      ]
     },
     "execution_count": 7,
     "metadata": {},
     "output_type": "execute_result"
    }
   ],
   "source": [
    "Image(url=\"https://www.tensorflow.org/images/audio-image-text.png\", width=850)"
   ]
  },
  {
   "cell_type": "markdown",
   "metadata": {},
   "source": [
    "Image and audio processing systems work with rich, high-dimensional datasets encoded as vectors of the individual raw pixel-intensities for image data, or e.g. power spectral density coefficients for audio data.\n",
    "<b>However, natural language processing systems traditionally treat words as discrete atomic symbols"
   ]
  },
  {
   "cell_type": "markdown",
   "metadata": {},
   "source": [
    "Vector space models (VSMs) represent (embed) words in a continuous vector space where semantically similar words are mapped to nearby points ('are embedded nearby each other').\n",
    "\n",
    "### word2vec(most popular word embedding model): two-layer neural net that processes text\n",
    "<b>Turns text into a numerical form that deep nets can understand"
   ]
  },
  {
   "cell_type": "markdown",
   "metadata": {},
   "source": [
    "Word2vec is similar to an autoencoder, encoding each word in a vector, but rather than training against the input words through reconstruction, <b>word2vec trains words against other words that neighbor them in the input corpus.</b>\n",
    "    \n",
    "It does so in one of <b>two ways</b>, either using context to predict a target word (a method known as continuous bag of words, or CBOW), or using a word to predict a target context, which is called skip-gram. <b>In practice we usually use the latter method because it produces more accurate results on large datasets."
   ]
  },
  {
   "cell_type": "code",
   "execution_count": 8,
   "metadata": {},
   "outputs": [
    {
     "data": {
      "text/html": [
       "<img src=\"https://skymind.ai/images/wiki/word2vec_diagrams.png\" width=\"600\"/>"
      ],
      "text/plain": [
       "<IPython.core.display.Image object>"
      ]
     },
     "execution_count": 8,
     "metadata": {},
     "output_type": "execute_result"
    }
   ],
   "source": [
    "Image(url=\"https://skymind.ai/images/wiki/word2vec_diagrams.png\", width=600)"
   ]
  },
  {
   "cell_type": "markdown",
   "metadata": {},
   "source": [
    "Extent reading---CBOW VS Skip-gram: http://cs224d.stanford.edu/lecture_notes/notes1.pdf\n",
    "<br>\n",
    "Skip-gram https://medium.com/district-data-labs/forward-propagation-building-a-skip-gram-net-from-the-ground-up-9578814b221\n",
    "<br>\n",
    "Why Skip-gram works better than CBOW: https://stats.stackexchange.com/questions/180548/why-is-skip-gram-better-for-infrequent-words-than-cbow"
   ]
  },
  {
   "cell_type": "markdown",
   "metadata": {},
   "source": [
    "### Continuous Bag of Words Model (CBOW): uses context to predict a target word \n",
    "\n",
    "Maximize the log probabilities of the target word given by the surrounding words.\n",
    "\n",
    "$J_\\theta = \\frac{1}{T}\\sum\\limits_{t=1}^T\\ \\text{log} \\space p(w_t \\: | \\: w_{t-n} , \\cdots , w_{t-1}, w_{t+1}, \\cdots , w_{t+n})$"
   ]
  },
  {
   "cell_type": "code",
   "execution_count": 4,
   "metadata": {},
   "outputs": [
    {
     "data": {
      "text/html": [
       "<img src=\"https://i.stack.imgur.com/NEbGx.png\" width=\"350\"/>"
      ],
      "text/plain": [
       "<IPython.core.display.Image object>"
      ]
     },
     "execution_count": 4,
     "metadata": {},
     "output_type": "execute_result"
    }
   ],
   "source": [
    "Image(url=\"https://i.stack.imgur.com/NEbGx.png\", width=350)"
   ]
  },
  {
   "cell_type": "code",
   "execution_count": 18,
   "metadata": {},
   "outputs": [
    {
     "data": {
      "image/png": "[encoded data removed]",
      "text/plain": [
       "<IPython.core.display.Image object>"
      ]
     },
     "execution_count": 18,
     "metadata": {},
     "output_type": "execute_result"
    }
   ],
   "source": [
    "Image(\"img/c1.png\")"
   ]
  },
  {
   "cell_type": "code",
   "execution_count": 19,
   "metadata": {},
   "outputs": [
    {
     "data": {
      "image/png": "[encoded data removed]",
      "text/plain": [
       "<IPython.core.display.Image object>"
      ]
     },
     "execution_count": 19,
     "metadata": {},
     "output_type": "execute_result"
    }
   ],
   "source": [
    "Image(\"img/c2.png\")"
   ]
  },
  {
   "cell_type": "markdown",
   "metadata": {},
   "source": [
    "### Skip-gram:uses the centre word to predict the surrounding words\n",
    "\n",
    "objective thus sums the log probabilities of the surrounding \n",
    "n\n",
    " words to the left and to the right of the target word to produce the following objective:\n",
    " \n",
    "$J_\\theta = \\frac{1}{T}\\sum\\limits_{t=1}^T\\ \\sum\\limits_{-n \\leq j \\leq n , \\neq 0} \\text{log} \\space p(w_{t+j} : | : w_t)$"
   ]
  },
  {
   "cell_type": "code",
   "execution_count": 9,
   "metadata": {},
   "outputs": [
    {
     "data": {
      "text/html": [
       "<img src=\"https://cdn-images-1.medium.com/max/800/0*xqhh7Gd64VAQ1Sny.png\" width=\"550\"/>"
      ],
      "text/plain": [
       "<IPython.core.display.Image object>"
      ]
     },
     "execution_count": 9,
     "metadata": {},
     "output_type": "execute_result"
    }
   ],
   "source": [
    "Image(url=\"https://cdn-images-1.medium.com/max/800/0*xqhh7Gd64VAQ1Sny.png\", width=550)"
   ]
  },
  {
   "cell_type": "markdown",
   "metadata": {},
   "source": [
    "We must learn P and P' (through backpropagation  ). When we finish, <b>we call the P embedding matrix"
   ]
  },
  {
   "cell_type": "markdown",
   "metadata": {},
   "source": [
    "####  Training Processing\n",
    "Let's assume our context is +- 2.\n",
    "1. We generate our one hot input vector $W(t)$\n",
    "2. We get our embedded word vectors for the context $h=P W(t)$ \n",
    "3. We get $W(t-2)= hP' $\n",
    "4. Turn each of the scores into probabilities, $\\hat y = softmax(W(t-2))$\n",
    "5. compare with ground truth and do backpropagation \n",
    "6. input vector $W(t)$ again and get $W(t-1)$<br>\n",
    ".........\n",
    "\n",
    "\n",
    "More tricks please read the original paper: https://papers.nips.cc/paper/5021-distributed-representations-of-words-and-phrases-and-their-compositionality.pdf"
   ]
  },
  {
   "cell_type": "markdown",
   "metadata": {},
   "source": [
    "# visualization of word embedding"
   ]
  },
  {
   "cell_type": "code",
   "execution_count": 13,
   "metadata": {},
   "outputs": [
    {
     "data": {
      "text/html": [
       "<img src=\"https://www.tensorflow.org/images/linear-relationships.png\" width=\"800\"/>"
      ],
      "text/plain": [
       "<IPython.core.display.Image object>"
      ]
     },
     "execution_count": 13,
     "metadata": {},
     "output_type": "execute_result"
    }
   ],
   "source": [
    "Image(url=\"https://www.tensorflow.org/images/linear-relationships.png\", width=800)"
   ]
  },
  {
   "cell_type": "markdown",
   "metadata": {},
   "source": [
    "We can visualize the learned vectors by projecting them down to 2 dimensions using for instance something like the t-SNE dimensionality reduction technique. When we inspect these visualizations it becomes apparent that the vectors capture some general, and in fact quite useful, semantic information about words and their relationships to one another!"
   ]
  },
  {
   "cell_type": "markdown",
   "metadata": {},
   "source": [
    "# 2. Semantic analysis based on dictionary and the defect of word embedding\n",
    "\n",
    "More detail please look at: http://blog.conceptnet.io/posts/2017/how-to-make-a-racist-ai-without-really-trying/ <br>\n",
    "Let's make a sentiment classifier!"
   ]
  },
  {
   "cell_type": "code",
   "execution_count": 11,
   "metadata": {},
   "outputs": [],
   "source": [
    "import numpy as np\n",
    "import pandas as pd\n",
    "import matplotlib\n",
    "# import seaborn\n",
    "import re\n",
    "# import statsmodels.formula.api\n",
    "\n",
    "from sklearn.linear_model import SGDClassifier\n",
    "from sklearn.model_selection import train_test_split\n",
    "from sklearn.metrics import accuracy_score"
   ]
  },
  {
   "cell_type": "markdown",
   "metadata": {},
   "source": [
    "We talked about word2vec. But this time we try GloVe, pretrained on the Common Crawl of web pages.\n",
    "\n",
    "We download glove.42B.300d.zip from [the GloVe web page](https://nlp.stanford.edu/projects/glove/), and extract it into `data/glove.42B.300d.txt`. Next we define a function to read the simple format of its word vectors."
   ]
  },
  {
   "cell_type": "code",
   "execution_count": 12,
   "metadata": {},
   "outputs": [
    {
     "data": {
      "text/plain": [
       "(1917494, 300)"
      ]
     },
     "execution_count": 12,
     "metadata": {},
     "output_type": "execute_result"
    }
   ],
   "source": [
    "def load_embeddings(filename):\n",
    "    \"\"\"\n",
    "    Load a DataFrame from the generalized text format used by word2vec, GloVe,\n",
    "    fastText, and ConceptNet Numberbatch. The main point where they differ is\n",
    "    whether there is an initial line with the dimensions of the matrix.\n",
    "    \"\"\"\n",
    "    labels = []\n",
    "    rows = []\n",
    "    with open(filename, encoding='utf-8') as infile:\n",
    "        for i, line in enumerate(infile):\n",
    "            items = line.rstrip().split(' ')\n",
    "            if len(items) == 2:\n",
    "                # This is a header row giving the shape of the matrix\n",
    "                continue\n",
    "            labels.append(items[0])\n",
    "            values = np.array([float(x) for x in items[1:]], 'f')\n",
    "            rows.append(values)\n",
    "    \n",
    "    arr = np.vstack(rows)\n",
    "    return pd.DataFrame(arr, index=labels, dtype='f')\n",
    "\n",
    "embeddings = load_embeddings('data/glove.42B.300d.txt')\n",
    "embeddings.shape"
   ]
  },
  {
   "cell_type": "code",
   "execution_count": 13,
   "metadata": {},
   "outputs": [
    {
     "data": {
      "text/html": [
       "<div>\n",
       "<style scoped>\n",
       "    .dataframe tbody tr th:only-of-type {\n",
       "        vertical-align: middle;\n",
       "    }\n",
       "\n",
       "    .dataframe tbody tr th {\n",
       "        vertical-align: top;\n",
       "    }\n",
       "\n",
       "    .dataframe thead th {\n",
       "        text-align: right;\n",
       "    }\n",
       "</style>\n",
       "<table border=\"1\" class=\"dataframe\">\n",
       "  <thead>\n",
       "    <tr style=\"text-align: right;\">\n",
       "      <th></th>\n",
       "      <th>0</th>\n",
       "      <th>1</th>\n",
       "      <th>2</th>\n",
       "      <th>3</th>\n",
       "      <th>4</th>\n",
       "      <th>5</th>\n",
       "      <th>6</th>\n",
       "      <th>7</th>\n",
       "      <th>8</th>\n",
       "      <th>9</th>\n",
       "      <th>...</th>\n",
       "      <th>290</th>\n",
       "      <th>291</th>\n",
       "      <th>292</th>\n",
       "      <th>293</th>\n",
       "      <th>294</th>\n",
       "      <th>295</th>\n",
       "      <th>296</th>\n",
       "      <th>297</th>\n",
       "      <th>298</th>\n",
       "      <th>299</th>\n",
       "    </tr>\n",
       "  </thead>\n",
       "  <tbody>\n",
       "    <tr>\n",
       "      <th>than</th>\n",
       "      <td>-0.055767</td>\n",
       "      <td>0.425620</td>\n",
       "      <td>-0.336340</td>\n",
       "      <td>-0.327000</td>\n",
       "      <td>0.117190</td>\n",
       "      <td>0.198120</td>\n",
       "      <td>-4.1393</td>\n",
       "      <td>0.259850</td>\n",
       "      <td>-0.053024</td>\n",
       "      <td>-0.338830</td>\n",
       "      <td>...</td>\n",
       "      <td>-0.005653</td>\n",
       "      <td>-0.339460</td>\n",
       "      <td>-0.171790</td>\n",
       "      <td>-0.230470</td>\n",
       "      <td>-0.061769</td>\n",
       "      <td>0.163950</td>\n",
       "      <td>-0.313470</td>\n",
       "      <td>0.079536</td>\n",
       "      <td>-0.237930</td>\n",
       "      <td>0.242820</td>\n",
       "    </tr>\n",
       "    <tr>\n",
       "      <th>good</th>\n",
       "      <td>-0.069254</td>\n",
       "      <td>0.376680</td>\n",
       "      <td>-0.169580</td>\n",
       "      <td>-0.274820</td>\n",
       "      <td>0.256670</td>\n",
       "      <td>-0.202930</td>\n",
       "      <td>-4.1122</td>\n",
       "      <td>0.025950</td>\n",
       "      <td>-0.270850</td>\n",
       "      <td>-0.870030</td>\n",
       "      <td>...</td>\n",
       "      <td>-0.484760</td>\n",
       "      <td>-0.333630</td>\n",
       "      <td>-0.075956</td>\n",
       "      <td>0.158270</td>\n",
       "      <td>0.294310</td>\n",
       "      <td>-0.074275</td>\n",
       "      <td>-0.289090</td>\n",
       "      <td>-0.220280</td>\n",
       "      <td>0.088971</td>\n",
       "      <td>-0.028352</td>\n",
       "    </tr>\n",
       "    <tr>\n",
       "      <th>&gt;</th>\n",
       "      <td>0.360740</td>\n",
       "      <td>-0.008824</td>\n",
       "      <td>-0.177570</td>\n",
       "      <td>0.427730</td>\n",
       "      <td>0.316440</td>\n",
       "      <td>0.025076</td>\n",
       "      <td>-1.7662</td>\n",
       "      <td>0.022277</td>\n",
       "      <td>0.370260</td>\n",
       "      <td>-0.005604</td>\n",
       "      <td>...</td>\n",
       "      <td>0.226760</td>\n",
       "      <td>0.067057</td>\n",
       "      <td>-0.269530</td>\n",
       "      <td>-0.527230</td>\n",
       "      <td>-0.193380</td>\n",
       "      <td>-0.312780</td>\n",
       "      <td>-0.465250</td>\n",
       "      <td>-0.321170</td>\n",
       "      <td>0.311530</td>\n",
       "      <td>-0.430260</td>\n",
       "    </tr>\n",
       "    <tr>\n",
       "      <th>into</th>\n",
       "      <td>-0.117980</td>\n",
       "      <td>-0.008120</td>\n",
       "      <td>0.148950</td>\n",
       "      <td>-0.093395</td>\n",
       "      <td>0.058621</td>\n",
       "      <td>-0.305920</td>\n",
       "      <td>-4.1114</td>\n",
       "      <td>0.464410</td>\n",
       "      <td>-0.036579</td>\n",
       "      <td>-0.362530</td>\n",
       "      <td>...</td>\n",
       "      <td>-0.344060</td>\n",
       "      <td>-0.375920</td>\n",
       "      <td>-0.047337</td>\n",
       "      <td>-0.074423</td>\n",
       "      <td>0.091269</td>\n",
       "      <td>-0.072449</td>\n",
       "      <td>0.129580</td>\n",
       "      <td>0.025338</td>\n",
       "      <td>-0.199670</td>\n",
       "      <td>-0.219010</td>\n",
       "    </tr>\n",
       "    <tr>\n",
       "      <th>its</th>\n",
       "      <td>0.390660</td>\n",
       "      <td>0.257770</td>\n",
       "      <td>0.061747</td>\n",
       "      <td>-0.389770</td>\n",
       "      <td>-0.140780</td>\n",
       "      <td>-0.145800</td>\n",
       "      <td>-4.2649</td>\n",
       "      <td>0.699030</td>\n",
       "      <td>0.218570</td>\n",
       "      <td>-0.516560</td>\n",
       "      <td>...</td>\n",
       "      <td>-0.056945</td>\n",
       "      <td>-0.260470</td>\n",
       "      <td>-0.355600</td>\n",
       "      <td>-0.418730</td>\n",
       "      <td>-0.001772</td>\n",
       "      <td>0.551010</td>\n",
       "      <td>0.565260</td>\n",
       "      <td>-0.409770</td>\n",
       "      <td>0.178530</td>\n",
       "      <td>0.371000</td>\n",
       "    </tr>\n",
       "    <tr>\n",
       "      <th>these</th>\n",
       "      <td>0.102150</td>\n",
       "      <td>-0.016396</td>\n",
       "      <td>0.128250</td>\n",
       "      <td>-0.264650</td>\n",
       "      <td>-0.098437</td>\n",
       "      <td>0.251010</td>\n",
       "      <td>-4.4464</td>\n",
       "      <td>0.030793</td>\n",
       "      <td>-0.148130</td>\n",
       "      <td>-0.506990</td>\n",
       "      <td>...</td>\n",
       "      <td>-0.237990</td>\n",
       "      <td>0.007718</td>\n",
       "      <td>-0.323230</td>\n",
       "      <td>-0.532920</td>\n",
       "      <td>-0.039191</td>\n",
       "      <td>-0.520640</td>\n",
       "      <td>-0.328470</td>\n",
       "      <td>-0.251000</td>\n",
       "      <td>-0.044281</td>\n",
       "      <td>0.346960</td>\n",
       "    </tr>\n",
       "    <tr>\n",
       "      <th>us</th>\n",
       "      <td>-0.068327</td>\n",
       "      <td>-0.263170</td>\n",
       "      <td>0.084487</td>\n",
       "      <td>0.252090</td>\n",
       "      <td>0.033995</td>\n",
       "      <td>0.115390</td>\n",
       "      <td>-4.0259</td>\n",
       "      <td>-0.206360</td>\n",
       "      <td>0.104640</td>\n",
       "      <td>-0.075034</td>\n",
       "      <td>...</td>\n",
       "      <td>-0.257240</td>\n",
       "      <td>0.280800</td>\n",
       "      <td>0.254780</td>\n",
       "      <td>0.110570</td>\n",
       "      <td>0.064261</td>\n",
       "      <td>0.311320</td>\n",
       "      <td>0.106030</td>\n",
       "      <td>0.376860</td>\n",
       "      <td>0.245400</td>\n",
       "      <td>0.212040</td>\n",
       "    </tr>\n",
       "    <tr>\n",
       "      <th>see</th>\n",
       "      <td>0.133470</td>\n",
       "      <td>-0.154860</td>\n",
       "      <td>-0.505610</td>\n",
       "      <td>-0.311500</td>\n",
       "      <td>0.172940</td>\n",
       "      <td>-0.148110</td>\n",
       "      <td>-3.6309</td>\n",
       "      <td>0.077560</td>\n",
       "      <td>0.206970</td>\n",
       "      <td>-0.509020</td>\n",
       "      <td>...</td>\n",
       "      <td>-0.348500</td>\n",
       "      <td>0.130610</td>\n",
       "      <td>-0.113630</td>\n",
       "      <td>0.195610</td>\n",
       "      <td>-0.145860</td>\n",
       "      <td>-0.109620</td>\n",
       "      <td>-0.121570</td>\n",
       "      <td>0.129990</td>\n",
       "      <td>0.161610</td>\n",
       "      <td>0.261480</td>\n",
       "    </tr>\n",
       "    <tr>\n",
       "      <th>here</th>\n",
       "      <td>0.107040</td>\n",
       "      <td>0.082424</td>\n",
       "      <td>0.147940</td>\n",
       "      <td>-0.472210</td>\n",
       "      <td>0.512760</td>\n",
       "      <td>0.142310</td>\n",
       "      <td>-3.6893</td>\n",
       "      <td>0.089892</td>\n",
       "      <td>0.042046</td>\n",
       "      <td>-0.366300</td>\n",
       "      <td>...</td>\n",
       "      <td>-0.099222</td>\n",
       "      <td>0.226230</td>\n",
       "      <td>0.170110</td>\n",
       "      <td>-0.125930</td>\n",
       "      <td>-0.109300</td>\n",
       "      <td>0.033080</td>\n",
       "      <td>-0.266320</td>\n",
       "      <td>-0.074878</td>\n",
       "      <td>-0.301820</td>\n",
       "      <td>0.099069</td>\n",
       "    </tr>\n",
       "    <tr>\n",
       "      <th>make</th>\n",
       "      <td>-0.135860</td>\n",
       "      <td>-0.010829</td>\n",
       "      <td>-0.058323</td>\n",
       "      <td>-0.036282</td>\n",
       "      <td>-0.093387</td>\n",
       "      <td>0.352750</td>\n",
       "      <td>-4.3414</td>\n",
       "      <td>0.090579</td>\n",
       "      <td>0.003557</td>\n",
       "      <td>-0.622190</td>\n",
       "      <td>...</td>\n",
       "      <td>-0.252640</td>\n",
       "      <td>-0.167960</td>\n",
       "      <td>-0.274500</td>\n",
       "      <td>0.185840</td>\n",
       "      <td>0.320450</td>\n",
       "      <td>-0.272160</td>\n",
       "      <td>-0.038879</td>\n",
       "      <td>-0.174100</td>\n",
       "      <td>0.131380</td>\n",
       "      <td>-0.182270</td>\n",
       "    </tr>\n",
       "    <tr>\n",
       "      <th>home</th>\n",
       "      <td>0.169410</td>\n",
       "      <td>0.257840</td>\n",
       "      <td>0.013124</td>\n",
       "      <td>0.454370</td>\n",
       "      <td>-0.053239</td>\n",
       "      <td>-0.158370</td>\n",
       "      <td>-2.9361</td>\n",
       "      <td>-0.676890</td>\n",
       "      <td>0.339310</td>\n",
       "      <td>-0.219230</td>\n",
       "      <td>...</td>\n",
       "      <td>-0.215840</td>\n",
       "      <td>0.027329</td>\n",
       "      <td>-0.367000</td>\n",
       "      <td>-0.698500</td>\n",
       "      <td>-0.439000</td>\n",
       "      <td>-0.132860</td>\n",
       "      <td>-0.531110</td>\n",
       "      <td>-0.103480</td>\n",
       "      <td>0.116480</td>\n",
       "      <td>-0.562480</td>\n",
       "    </tr>\n",
       "    <tr>\n",
       "      <th>3</th>\n",
       "      <td>-0.026902</td>\n",
       "      <td>0.164250</td>\n",
       "      <td>0.134470</td>\n",
       "      <td>-0.147250</td>\n",
       "      <td>0.480180</td>\n",
       "      <td>-0.089329</td>\n",
       "      <td>-2.1427</td>\n",
       "      <td>0.508070</td>\n",
       "      <td>-0.338240</td>\n",
       "      <td>-0.579560</td>\n",
       "      <td>...</td>\n",
       "      <td>0.159230</td>\n",
       "      <td>0.426620</td>\n",
       "      <td>-0.388470</td>\n",
       "      <td>0.316680</td>\n",
       "      <td>0.163110</td>\n",
       "      <td>-0.261460</td>\n",
       "      <td>-0.158610</td>\n",
       "      <td>0.300720</td>\n",
       "      <td>0.408470</td>\n",
       "      <td>-0.276720</td>\n",
       "    </tr>\n",
       "    <tr>\n",
       "      <th>very</th>\n",
       "      <td>0.244870</td>\n",
       "      <td>-0.152160</td>\n",
       "      <td>-0.300100</td>\n",
       "      <td>-0.229250</td>\n",
       "      <td>0.071235</td>\n",
       "      <td>-0.370770</td>\n",
       "      <td>-4.2901</td>\n",
       "      <td>0.068465</td>\n",
       "      <td>-0.313450</td>\n",
       "      <td>-0.789100</td>\n",
       "      <td>...</td>\n",
       "      <td>-0.179650</td>\n",
       "      <td>-0.243960</td>\n",
       "      <td>-0.343480</td>\n",
       "      <td>-0.034521</td>\n",
       "      <td>0.431320</td>\n",
       "      <td>-0.290050</td>\n",
       "      <td>0.046849</td>\n",
       "      <td>0.317370</td>\n",
       "      <td>0.198980</td>\n",
       "      <td>-0.333740</td>\n",
       "    </tr>\n",
       "    <tr>\n",
       "      <th>over</th>\n",
       "      <td>-0.089285</td>\n",
       "      <td>-0.077838</td>\n",
       "      <td>-0.295420</td>\n",
       "      <td>-0.335840</td>\n",
       "      <td>0.287430</td>\n",
       "      <td>0.167090</td>\n",
       "      <td>-3.8309</td>\n",
       "      <td>-0.109350</td>\n",
       "      <td>0.197630</td>\n",
       "      <td>-0.452480</td>\n",
       "      <td>...</td>\n",
       "      <td>-0.129050</td>\n",
       "      <td>-0.166880</td>\n",
       "      <td>0.411800</td>\n",
       "      <td>-0.387200</td>\n",
       "      <td>0.155210</td>\n",
       "      <td>0.147070</td>\n",
       "      <td>-0.506660</td>\n",
       "      <td>-0.255170</td>\n",
       "      <td>-0.257570</td>\n",
       "      <td>-0.062055</td>\n",
       "    </tr>\n",
       "    <tr>\n",
       "      <th>most</th>\n",
       "      <td>0.417840</td>\n",
       "      <td>-0.057541</td>\n",
       "      <td>-0.126940</td>\n",
       "      <td>-0.142470</td>\n",
       "      <td>-0.020332</td>\n",
       "      <td>0.003918</td>\n",
       "      <td>-4.0459</td>\n",
       "      <td>0.061147</td>\n",
       "      <td>-0.450440</td>\n",
       "      <td>-0.447180</td>\n",
       "      <td>...</td>\n",
       "      <td>0.274780</td>\n",
       "      <td>-0.536220</td>\n",
       "      <td>-0.088151</td>\n",
       "      <td>-0.483320</td>\n",
       "      <td>0.123190</td>\n",
       "      <td>-0.120340</td>\n",
       "      <td>0.043918</td>\n",
       "      <td>-0.056338</td>\n",
       "      <td>0.287590</td>\n",
       "      <td>0.099948</td>\n",
       "    </tr>\n",
       "  </tbody>\n",
       "</table>\n",
       "<p>15 rows × 300 columns</p>\n",
       "</div>"
      ],
      "text/plain": [
       "            0         1         2         3         4         5       6    \\\n",
       "than  -0.055767  0.425620 -0.336340 -0.327000  0.117190  0.198120 -4.1393   \n",
       "good  -0.069254  0.376680 -0.169580 -0.274820  0.256670 -0.202930 -4.1122   \n",
       ">      0.360740 -0.008824 -0.177570  0.427730  0.316440  0.025076 -1.7662   \n",
       "into  -0.117980 -0.008120  0.148950 -0.093395  0.058621 -0.305920 -4.1114   \n",
       "its    0.390660  0.257770  0.061747 -0.389770 -0.140780 -0.145800 -4.2649   \n",
       "these  0.102150 -0.016396  0.128250 -0.264650 -0.098437  0.251010 -4.4464   \n",
       "us    -0.068327 -0.263170  0.084487  0.252090  0.033995  0.115390 -4.0259   \n",
       "see    0.133470 -0.154860 -0.505610 -0.311500  0.172940 -0.148110 -3.6309   \n",
       "here   0.107040  0.082424  0.147940 -0.472210  0.512760  0.142310 -3.6893   \n",
       "make  -0.135860 -0.010829 -0.058323 -0.036282 -0.093387  0.352750 -4.3414   \n",
       "home   0.169410  0.257840  0.013124  0.454370 -0.053239 -0.158370 -2.9361   \n",
       "3     -0.026902  0.164250  0.134470 -0.147250  0.480180 -0.089329 -2.1427   \n",
       "very   0.244870 -0.152160 -0.300100 -0.229250  0.071235 -0.370770 -4.2901   \n",
       "over  -0.089285 -0.077838 -0.295420 -0.335840  0.287430  0.167090 -3.8309   \n",
       "most   0.417840 -0.057541 -0.126940 -0.142470 -0.020332  0.003918 -4.0459   \n",
       "\n",
       "            7         8         9      ...          290       291       292  \\\n",
       "than   0.259850 -0.053024 -0.338830    ...    -0.005653 -0.339460 -0.171790   \n",
       "good   0.025950 -0.270850 -0.870030    ...    -0.484760 -0.333630 -0.075956   \n",
       ">      0.022277  0.370260 -0.005604    ...     0.226760  0.067057 -0.269530   \n",
       "into   0.464410 -0.036579 -0.362530    ...    -0.344060 -0.375920 -0.047337   \n",
       "its    0.699030  0.218570 -0.516560    ...    -0.056945 -0.260470 -0.355600   \n",
       "these  0.030793 -0.148130 -0.506990    ...    -0.237990  0.007718 -0.323230   \n",
       "us    -0.206360  0.104640 -0.075034    ...    -0.257240  0.280800  0.254780   \n",
       "see    0.077560  0.206970 -0.509020    ...    -0.348500  0.130610 -0.113630   \n",
       "here   0.089892  0.042046 -0.366300    ...    -0.099222  0.226230  0.170110   \n",
       "make   0.090579  0.003557 -0.622190    ...    -0.252640 -0.167960 -0.274500   \n",
       "home  -0.676890  0.339310 -0.219230    ...    -0.215840  0.027329 -0.367000   \n",
       "3      0.508070 -0.338240 -0.579560    ...     0.159230  0.426620 -0.388470   \n",
       "very   0.068465 -0.313450 -0.789100    ...    -0.179650 -0.243960 -0.343480   \n",
       "over  -0.109350  0.197630 -0.452480    ...    -0.129050 -0.166880  0.411800   \n",
       "most   0.061147 -0.450440 -0.447180    ...     0.274780 -0.536220 -0.088151   \n",
       "\n",
       "            293       294       295       296       297       298       299  \n",
       "than  -0.230470 -0.061769  0.163950 -0.313470  0.079536 -0.237930  0.242820  \n",
       "good   0.158270  0.294310 -0.074275 -0.289090 -0.220280  0.088971 -0.028352  \n",
       ">     -0.527230 -0.193380 -0.312780 -0.465250 -0.321170  0.311530 -0.430260  \n",
       "into  -0.074423  0.091269 -0.072449  0.129580  0.025338 -0.199670 -0.219010  \n",
       "its   -0.418730 -0.001772  0.551010  0.565260 -0.409770  0.178530  0.371000  \n",
       "these -0.532920 -0.039191 -0.520640 -0.328470 -0.251000 -0.044281  0.346960  \n",
       "us     0.110570  0.064261  0.311320  0.106030  0.376860  0.245400  0.212040  \n",
       "see    0.195610 -0.145860 -0.109620 -0.121570  0.129990  0.161610  0.261480  \n",
       "here  -0.125930 -0.109300  0.033080 -0.266320 -0.074878 -0.301820  0.099069  \n",
       "make   0.185840  0.320450 -0.272160 -0.038879 -0.174100  0.131380 -0.182270  \n",
       "home  -0.698500 -0.439000 -0.132860 -0.531110 -0.103480  0.116480 -0.562480  \n",
       "3      0.316680  0.163110 -0.261460 -0.158610  0.300720  0.408470 -0.276720  \n",
       "very  -0.034521  0.431320 -0.290050  0.046849  0.317370  0.198980 -0.333740  \n",
       "over  -0.387200  0.155210  0.147070 -0.506660 -0.255170 -0.257570 -0.062055  \n",
       "most  -0.483320  0.123190 -0.120340  0.043918 -0.056338  0.287590  0.099948  \n",
       "\n",
       "[15 rows x 300 columns]"
      ]
     },
     "execution_count": 13,
     "metadata": {},
     "output_type": "execute_result"
    }
   ],
   "source": [
    "embeddings[100:115]"
   ]
  },
  {
   "cell_type": "markdown",
   "metadata": {},
   "source": [
    "We need some input about which words are positive and which words are negative.\n",
    "\n",
    "We download the lexicon from Bing Liu's web site (https://www.cs.uic.edu/~liub/FBS/sentiment-analysis.html#lexicon) and extract it into `data/positive-words.txt` and `data/negative-words.txt`.\n",
    "\n",
    "Next we define how to read these files, and read them in as the `pos_words` and `neg_words` variables:"
   ]
  },
  {
   "cell_type": "code",
   "execution_count": 14,
   "metadata": {},
   "outputs": [],
   "source": [
    "def load_lexicon(filename):\n",
    "    \"\"\"\n",
    "    Load a file from Bing Liu's sentiment lexicon\n",
    "    (https://www.cs.uic.edu/~liub/FBS/sentiment-analysis.html), containing\n",
    "    English words in Latin-1 encoding.\n",
    "    \n",
    "    One file contains a list of positive words, and the other contains\n",
    "    a list of negative words. The files contain comment lines starting\n",
    "    with ';' and blank lines, which should be skipped.\n",
    "    \"\"\"\n",
    "    lexicon = []\n",
    "    with open(filename, encoding='latin-1') as infile:\n",
    "        for line in infile:\n",
    "            line = line.rstrip()\n",
    "            if line and not line.startswith(';'):\n",
    "                lexicon.append(line)\n",
    "    return lexicon\n",
    "\n",
    "pos_words = load_lexicon('data/positive-words.txt')\n",
    "neg_words = load_lexicon('data/negative-words.txt')"
   ]
  },
  {
   "cell_type": "markdown",
   "metadata": {},
   "source": [
    "Now we get their embedding vector from embedding matrix"
   ]
  },
  {
   "cell_type": "code",
   "execution_count": 15,
   "metadata": {},
   "outputs": [
    {
     "name": "stderr",
     "output_type": "stream",
     "text": [
      "/conda/lib/python3.6/site-packages/ipykernel_launcher.py:1: FutureWarning: \n",
      "Passing list-likes to .loc or [] with any missing label will raise\n",
      "KeyError in the future, you can use .reindex() as an alternative.\n",
      "\n",
      "See the documentation here:\n",
      "https://pandas.pydata.org/pandas-docs/stable/indexing.html#deprecate-loc-reindex-listlike\n",
      "  \"\"\"Entry point for launching an IPython kernel.\n",
      "/conda/lib/python3.6/site-packages/ipykernel_launcher.py:2: FutureWarning: \n",
      "Passing list-likes to .loc or [] with any missing label will raise\n",
      "KeyError in the future, you can use .reindex() as an alternative.\n",
      "\n",
      "See the documentation here:\n",
      "https://pandas.pydata.org/pandas-docs/stable/indexing.html#deprecate-loc-reindex-listlike\n",
      "  \n"
     ]
    }
   ],
   "source": [
    "pos_vectors = embeddings.loc[pos_words].dropna()\n",
    "neg_vectors = embeddings.loc[neg_words].dropna()"
   ]
  },
  {
   "cell_type": "code",
   "execution_count": 16,
   "metadata": {},
   "outputs": [],
   "source": [
    "vectors = pd.concat([pos_vectors, neg_vectors])\n",
    "targets = np.array([1 for entry in pos_vectors.index] + [-1 for entry in neg_vectors.index])\n",
    "\n",
    "# we used 1 for positive words and -1 for negative words.\n",
    "labels = list(pos_vectors.index) + list(neg_vectors.index)"
   ]
  },
  {
   "cell_type": "code",
   "execution_count": 17,
   "metadata": {},
   "outputs": [
    {
     "data": {
      "text/plain": [
       "(6629, 300)"
      ]
     },
     "execution_count": 17,
     "metadata": {},
     "output_type": "execute_result"
    }
   ],
   "source": [
    "# we have 6616 words\n",
    "vectors.shape"
   ]
  },
  {
   "cell_type": "markdown",
   "metadata": {},
   "source": [
    "Using the scikit-learn `train_test_split` function, we simultaneously separate the input vectors, output values, and labels into training and test data, with 10% of the data used for testing."
   ]
  },
  {
   "cell_type": "code",
   "execution_count": 18,
   "metadata": {},
   "outputs": [],
   "source": [
    "train_vectors, test_vectors, train_targets, test_targets, train_labels, test_labels = \\\n",
    "    train_test_split(vectors, targets, labels, test_size=0.1, random_state=0)"
   ]
  },
  {
   "cell_type": "code",
   "execution_count": 19,
   "metadata": {},
   "outputs": [
    {
     "name": "stderr",
     "output_type": "stream",
     "text": [
      "/conda/lib/python3.6/site-packages/sklearn/linear_model/stochastic_gradient.py:117: DeprecationWarning: n_iter parameter is deprecated in 0.19 and will be removed in 0.21. Use max_iter and tol instead.\n",
      "  DeprecationWarning)\n"
     ]
    },
    {
     "data": {
      "text/plain": [
       "0.951734539969834"
      ]
     },
     "execution_count": 19,
     "metadata": {},
     "output_type": "execute_result"
    }
   ],
   "source": [
    "model = SGDClassifier(loss='log', random_state=0, n_iter=150)\n",
    "model.fit(train_vectors, train_targets)\n",
    "accuracy_score(model.predict(test_vectors), test_targets)"
   ]
  },
  {
   "cell_type": "markdown",
   "metadata": {},
   "source": [
    "Let's define a function that we can use to see the sentiment that this classifier predicts for particular words, then use it to see some examples of its predictions on the test data."
   ]
  },
  {
   "cell_type": "code",
   "execution_count": 20,
   "metadata": {},
   "outputs": [
    {
     "data": {
      "text/html": [
       "<div>\n",
       "<style scoped>\n",
       "    .dataframe tbody tr th:only-of-type {\n",
       "        vertical-align: middle;\n",
       "    }\n",
       "\n",
       "    .dataframe tbody tr th {\n",
       "        vertical-align: top;\n",
       "    }\n",
       "\n",
       "    .dataframe thead th {\n",
       "        text-align: right;\n",
       "    }\n",
       "</style>\n",
       "<table border=\"1\" class=\"dataframe\">\n",
       "  <thead>\n",
       "    <tr style=\"text-align: right;\">\n",
       "      <th></th>\n",
       "      <th>sentiment</th>\n",
       "    </tr>\n",
       "  </thead>\n",
       "  <tbody>\n",
       "    <tr>\n",
       "      <th>sorry</th>\n",
       "      <td>-7.246184</td>\n",
       "    </tr>\n",
       "    <tr>\n",
       "      <th>skillful</th>\n",
       "      <td>8.177097</td>\n",
       "    </tr>\n",
       "    <tr>\n",
       "      <th>unneeded</th>\n",
       "      <td>-8.944128</td>\n",
       "    </tr>\n",
       "    <tr>\n",
       "      <th>egregiously</th>\n",
       "      <td>-11.235916</td>\n",
       "    </tr>\n",
       "    <tr>\n",
       "      <th>recommendation</th>\n",
       "      <td>4.215600</td>\n",
       "    </tr>\n",
       "    <tr>\n",
       "      <th>redemption</th>\n",
       "      <td>3.383527</td>\n",
       "    </tr>\n",
       "    <tr>\n",
       "      <th>clueless</th>\n",
       "      <td>-7.619405</td>\n",
       "    </tr>\n",
       "    <tr>\n",
       "      <th>dragging</th>\n",
       "      <td>-9.207261</td>\n",
       "    </tr>\n",
       "    <tr>\n",
       "      <th>confused</th>\n",
       "      <td>-10.024105</td>\n",
       "    </tr>\n",
       "    <tr>\n",
       "      <th>weirdly</th>\n",
       "      <td>-3.562341</td>\n",
       "    </tr>\n",
       "    <tr>\n",
       "      <th>swipe</th>\n",
       "      <td>-2.012372</td>\n",
       "    </tr>\n",
       "    <tr>\n",
       "      <th>buckle</th>\n",
       "      <td>-2.843486</td>\n",
       "    </tr>\n",
       "    <tr>\n",
       "      <th>sanctimonious</th>\n",
       "      <td>-6.175207</td>\n",
       "    </tr>\n",
       "    <tr>\n",
       "      <th>symptoms</th>\n",
       "      <td>-11.103113</td>\n",
       "    </tr>\n",
       "    <tr>\n",
       "      <th>purify</th>\n",
       "      <td>3.992525</td>\n",
       "    </tr>\n",
       "    <tr>\n",
       "      <th>mad</th>\n",
       "      <td>-6.039347</td>\n",
       "    </tr>\n",
       "    <tr>\n",
       "      <th>fetid</th>\n",
       "      <td>-11.122484</td>\n",
       "    </tr>\n",
       "    <tr>\n",
       "      <th>unjustifiable</th>\n",
       "      <td>-10.902669</td>\n",
       "    </tr>\n",
       "    <tr>\n",
       "      <th>god-awful</th>\n",
       "      <td>-10.097452</td>\n",
       "    </tr>\n",
       "    <tr>\n",
       "      <th>judder</th>\n",
       "      <td>-4.281032</td>\n",
       "    </tr>\n",
       "  </tbody>\n",
       "</table>\n",
       "</div>"
      ],
      "text/plain": [
       "                sentiment\n",
       "sorry           -7.246184\n",
       "skillful         8.177097\n",
       "unneeded        -8.944128\n",
       "egregiously    -11.235916\n",
       "recommendation   4.215600\n",
       "redemption       3.383527\n",
       "clueless        -7.619405\n",
       "dragging        -9.207261\n",
       "confused       -10.024105\n",
       "weirdly         -3.562341\n",
       "swipe           -2.012372\n",
       "buckle          -2.843486\n",
       "sanctimonious   -6.175207\n",
       "symptoms       -11.103113\n",
       "purify           3.992525\n",
       "mad             -6.039347\n",
       "fetid          -11.122484\n",
       "unjustifiable  -10.902669\n",
       "god-awful      -10.097452\n",
       "judder          -4.281032"
      ]
     },
     "execution_count": 20,
     "metadata": {},
     "output_type": "execute_result"
    }
   ],
   "source": [
    "def vecs_to_sentiment(vecs):\n",
    "    # predict_log_proba gives the log probability for each class\n",
    "    predictions = model.predict_log_proba(vecs)\n",
    "\n",
    "    # To see an overall positive vs. negative classification in one number,\n",
    "    # we take the log probability of positive sentiment minus the log\n",
    "    # probability of negative sentiment.\n",
    "    return predictions[:, 1] - predictions[:, 0]\n",
    "\n",
    "\n",
    "def words_to_sentiment(words):\n",
    "    vecs = embeddings.loc[words].dropna()\n",
    "    log_odds = vecs_to_sentiment(vecs)\n",
    "    return pd.DataFrame({'sentiment': log_odds}, index=vecs.index)\n",
    "\n",
    "\n",
    "# Show 20 examples from the test set\n",
    "words_to_sentiment(test_labels).iloc[300:320]"
   ]
  },
  {
   "cell_type": "markdown",
   "metadata": {},
   "source": [
    "More than the accuracy number, this convinces us that the classifier is working. We can see that the classifier has learned to generalize sentiment to words outside of its training data."
   ]
  },
  {
   "cell_type": "code",
   "execution_count": 21,
   "metadata": {},
   "outputs": [],
   "source": [
    "import re\n",
    "TOKEN_RE = re.compile(r\"\\w.*?\\b\")\n",
    "# The regex above finds tokens that start with a word-like character (\\w), and continues\n",
    "# matching characters (.+?) until the next word break (\\b). It's a relatively simple\n",
    "# expression that manages to extract something very much like words from text.\n",
    "\n",
    "\n",
    "def text_to_sentiment(text):\n",
    "    tokens = [token.casefold() for token in TOKEN_RE.findall(text)]\n",
    "    sentiments = words_to_sentiment(tokens)\n",
    "    return sentiments['sentiment'].mean()"
   ]
  },
  {
   "cell_type": "markdown",
   "metadata": {},
   "source": [
    "We can average words sentiment score to get the sentiment."
   ]
  },
  {
   "cell_type": "code",
   "execution_count": 22,
   "metadata": {},
   "outputs": [
    {
     "data": {
      "text/plain": [
       "4.975339786346103"
      ]
     },
     "execution_count": 22,
     "metadata": {},
     "output_type": "execute_result"
    }
   ],
   "source": [
    "text_to_sentiment(\"this example is brilliant\")"
   ]
  },
  {
   "cell_type": "code",
   "execution_count": 23,
   "metadata": {},
   "outputs": [
    {
     "data": {
      "text/plain": [
       "2.7899924404558565"
      ]
     },
     "execution_count": 23,
     "metadata": {},
     "output_type": "execute_result"
    }
   ],
   "source": [
    "text_to_sentiment(\"The weather is good today\")"
   ]
  },
  {
   "cell_type": "code",
   "execution_count": 24,
   "metadata": {},
   "outputs": [
    {
     "data": {
      "text/plain": [
       "3.637917481972254"
      ]
     },
     "execution_count": 24,
     "metadata": {},
     "output_type": "execute_result"
    }
   ],
   "source": [
    "text_to_sentiment(\"I love you\")"
   ]
  },
  {
   "cell_type": "code",
   "execution_count": 25,
   "metadata": {},
   "outputs": [
    {
     "data": {
      "text/plain": [
       "-2.6437121810799598"
      ]
     },
     "execution_count": 25,
     "metadata": {},
     "output_type": "execute_result"
    }
   ],
   "source": [
    "text_to_sentiment(\"I hate you\")"
   ]
  },
  {
   "cell_type": "markdown",
   "metadata": {},
   "source": [
    "Seems like we got good results!......But what about the following exmample "
   ]
  },
  {
   "cell_type": "code",
   "execution_count": 26,
   "metadata": {},
   "outputs": [
    {
     "data": {
      "text/plain": [
       "1.785023736165175"
      ]
     },
     "execution_count": 26,
     "metadata": {},
     "output_type": "execute_result"
    }
   ],
   "source": [
    "text_to_sentiment(\"The weather is not good today\")"
   ]
  },
  {
   "cell_type": "code",
   "execution_count": 27,
   "metadata": {},
   "outputs": [
    {
     "data": {
      "text/plain": [
       "3.4577666389922053"
      ]
     },
     "execution_count": 27,
     "metadata": {},
     "output_type": "execute_result"
    }
   ],
   "source": [
    "text_to_sentiment(\"This project is not perfect\")"
   ]
  },
  {
   "cell_type": "markdown",
   "metadata": {},
   "source": [
    "Besides, this classifier also has strong bias!"
   ]
  },
  {
   "cell_type": "code",
   "execution_count": 28,
   "metadata": {},
   "outputs": [
    {
     "data": {
      "text/plain": [
       "1.3910905144976535"
      ]
     },
     "execution_count": 28,
     "metadata": {},
     "output_type": "execute_result"
    }
   ],
   "source": [
    "text_to_sentiment(\"Let's go get Italian food\")"
   ]
  },
  {
   "cell_type": "code",
   "execution_count": 29,
   "metadata": {},
   "outputs": [
    {
     "data": {
      "text/plain": [
       "0.7376801944107022"
      ]
     },
     "execution_count": 29,
     "metadata": {},
     "output_type": "execute_result"
    }
   ],
   "source": [
    "text_to_sentiment(\"Let's go get Chinese food\")"
   ]
  },
  {
   "cell_type": "code",
   "execution_count": 30,
   "metadata": {},
   "outputs": [
    {
     "data": {
      "text/plain": [
       "-0.2526547728204318"
      ]
     },
     "execution_count": 30,
     "metadata": {},
     "output_type": "execute_result"
    }
   ],
   "source": [
    "text_to_sentiment(\"Let's go get Mexican food\")"
   ]
  },
  {
   "cell_type": "markdown",
   "metadata": {},
   "source": [
    "Word embedding was greatly affected by the training data...and the traditional way to do sentiment analysis was not considering the content....\n",
    "To deal with the first problem, we could use the new \"ConceptNet\"\n",
    "http://www.conceptnet.io/\n",
    "\n",
    "And the existing deep learning model like LSTM could capture the content"
   ]
  },
  {
   "cell_type": "markdown",
   "metadata": {},
   "source": [
    "# 3.Semantic analysis based on deep learning\n",
    "In this section, we will use the dataset from  https://www.kaggle.com/bittlingmayer/amazonreviews<br>\n",
    "\n",
    "This dataset consists of a few million Amazon customer reviews (input text) and star ratings (0-negative   1 -positive) for learning how to train fastText for sentiment analysis.\n",
    "\n",
    "\n",
    "Let's do a brief review about LSTM.  \n",
    "\n",
    "http://colah.github.io/posts/2015-08-Understanding-LSTMs/"
   ]
  },
  {
   "cell_type": "code",
   "execution_count": 11,
   "metadata": {},
   "outputs": [
    {
     "data": {
      "text/html": [
       "<img src=\"http://colah.github.io/posts/2015-08-Understanding-LSTMs/img/LSTM3-chain.png\" width=\"700\"/>"
      ],
      "text/plain": [
       "<IPython.core.display.Image object>"
      ]
     },
     "execution_count": 11,
     "metadata": {},
     "output_type": "execute_result"
    }
   ],
   "source": [
    "Image(url=\"http://colah.github.io/posts/2015-08-Understanding-LSTMs/img/LSTM3-chain.png\", width=700)"
   ]
  },
  {
   "cell_type": "code",
   "execution_count": 10,
   "metadata": {},
   "outputs": [
    {
     "data": {
      "text/html": [
       "<img src=\"http://colah.github.io/posts/2015-08-Understanding-LSTMs/img/LSTM2-notation.png\" width=\"600\"/>"
      ],
      "text/plain": [
       "<IPython.core.display.Image object>"
      ]
     },
     "execution_count": 10,
     "metadata": {},
     "output_type": "execute_result"
    }
   ],
   "source": [
    "Image(url=\"http://colah.github.io/posts/2015-08-Understanding-LSTMs/img/LSTM2-notation.png\", width=600)"
   ]
  },
  {
   "cell_type": "markdown",
   "metadata": {},
   "source": [
    "# Step-by-Step LSTM Walk Through"
   ]
  },
  {
   "cell_type": "markdown",
   "metadata": {},
   "source": [
    "The key to LSTMs is <b> how to control the cell state</b>, the horizontal line running through the top of the diagram.\n"
   ]
  },
  {
   "cell_type": "code",
   "execution_count": 9,
   "metadata": {},
   "outputs": [
    {
     "data": {
      "text/html": [
       "<img src=\"http://colah.github.io/posts/2015-08-Understanding-LSTMs/img/LSTM3-C-line.png\" width=\"600\"/>"
      ],
      "text/plain": [
       "<IPython.core.display.Image object>"
      ]
     },
     "execution_count": 9,
     "metadata": {},
     "output_type": "execute_result"
    }
   ],
   "source": [
    "Image(url=\"http://colah.github.io/posts/2015-08-Understanding-LSTMs/img/LSTM3-C-line.png\", width=600)"
   ]
  },
  {
   "cell_type": "markdown",
   "metadata": {},
   "source": [
    "Here, the idea of LSTM is to use three gates to protect and control the cell state. It is a way to optionally let information through. They are composed out of a sigmoid neural net layer and a pointwise multiplication operation.\n"
   ]
  },
  {
   "cell_type": "code",
   "execution_count": 12,
   "metadata": {},
   "outputs": [
    {
     "data": {
      "text/html": [
       "<img src=\"http://colah.github.io/posts/2015-08-Understanding-LSTMs/img/LSTM3-gate.png\" width=\"100\"/>"
      ],
      "text/plain": [
       "<IPython.core.display.Image object>"
      ]
     },
     "execution_count": 12,
     "metadata": {},
     "output_type": "execute_result"
    }
   ],
   "source": [
    "Image(url=\"http://colah.github.io/posts/2015-08-Understanding-LSTMs/img/LSTM3-gate.png\", width=100)"
   ]
  },
  {
   "cell_type": "markdown",
   "metadata": {},
   "source": [
    "The sigmoid layer outputs numbers between zero and one, describing how much of each component should be let through. A value of zero means “let nothing through,” while a value of one means “let everything through!”\n",
    "\n",
    "The name of three gates are:<br>\n",
    "forget gate<br>\n",
    "input gate<br>\n",
    "ourput gate<br>\n"
   ]
  },
  {
   "cell_type": "code",
   "execution_count": 16,
   "metadata": {},
   "outputs": [
    {
     "data": {
      "text/html": [
       "<img src=\"http://colah.github.io/posts/2015-08-Understanding-LSTMs/img/LSTM3-focus-f.png\" width=\"800\"/>"
      ],
      "text/plain": [
       "<IPython.core.display.Image object>"
      ]
     },
     "execution_count": 16,
     "metadata": {},
     "output_type": "execute_result"
    }
   ],
   "source": [
    "Image(url=\"http://colah.github.io/posts/2015-08-Understanding-LSTMs/img/LSTM3-focus-f.png\", width=800)"
   ]
  },
  {
   "cell_type": "markdown",
   "metadata": {},
   "source": [
    "The first step in our LSTM is to decide what information we’re going to throw away from the cell state. This decision is made by a sigmoid layer called the “forget gate layer.” It looks at $h_{t−1}$ and $x_t$, and outputs a number between 0 and 1 for each number in the cell state $C_{t−1}$.  1 represents “completely keep this” while a 0 represents “completely get rid of this.”"
   ]
  },
  {
   "cell_type": "code",
   "execution_count": 17,
   "metadata": {},
   "outputs": [
    {
     "data": {
      "text/html": [
       "<img src=\"http://colah.github.io/posts/2015-08-Understanding-LSTMs/img/LSTM3-focus-i.png\" width=\"800\"/>"
      ],
      "text/plain": [
       "<IPython.core.display.Image object>"
      ]
     },
     "execution_count": 17,
     "metadata": {},
     "output_type": "execute_result"
    }
   ],
   "source": [
    "Image(url=\"http://colah.github.io/posts/2015-08-Understanding-LSTMs/img/LSTM3-focus-i.png\", width=800)"
   ]
  },
  {
   "cell_type": "markdown",
   "metadata": {},
   "source": [
    "The next step is to decide what new information we’re going to store in the cell state. This has two parts.\n",
    "\n",
    "First, a sigmoid layer called the “input gate layer” decides which values(or how much)  we’ll update.\n",
    "\n",
    "Next, a tanh layer creates a vector of new candidate values, $\\tilde{C}_t$, that could be added to the state. In the next step, we’ll combine these two to create an update to the state."
   ]
  },
  {
   "cell_type": "markdown",
   "metadata": {},
   "source": [
    "It’s now time to update the old cell state, $C_{t−1}$, into the new cell state $ C_t$. The previous steps already decided what to do, we just need to actually do it."
   ]
  },
  {
   "cell_type": "code",
   "execution_count": 18,
   "metadata": {},
   "outputs": [
    {
     "data": {
      "text/html": [
       "<img src=\"http://colah.github.io/posts/2015-08-Understanding-LSTMs/img/LSTM3-focus-C.png\" width=\"800\"/>"
      ],
      "text/plain": [
       "<IPython.core.display.Image object>"
      ]
     },
     "execution_count": 18,
     "metadata": {},
     "output_type": "execute_result"
    }
   ],
   "source": [
    "Image(url=\"http://colah.github.io/posts/2015-08-Understanding-LSTMs/img/LSTM3-focus-C.png\", width=800)"
   ]
  },
  {
   "cell_type": "markdown",
   "metadata": {},
   "source": [
    "This equation means: forgetting the things we decided to forget earlier:   $f_t * C_{t-1}$  <br>\n",
    "plus<br>\n",
    "the new candidate values, scaled by how much we decided to update each state value.  $ i_t *\\tilde{C}_t $"
   ]
  },
  {
   "cell_type": "code",
   "execution_count": 19,
   "metadata": {},
   "outputs": [
    {
     "data": {
      "text/html": [
       "<img src=\"http://colah.github.io/posts/2015-08-Understanding-LSTMs/img/LSTM3-focus-o.png\" width=\"800\"/>"
      ],
      "text/plain": [
       "<IPython.core.display.Image object>"
      ]
     },
     "execution_count": 19,
     "metadata": {},
     "output_type": "execute_result"
    }
   ],
   "source": [
    "Image(url=\"http://colah.github.io/posts/2015-08-Understanding-LSTMs/img/LSTM3-focus-o.png\", width=800)"
   ]
  },
  {
   "cell_type": "markdown",
   "metadata": {},
   "source": [
    "Finally, we need to decide what we’re going to output. This output will be based on our cell state, but will be a filtered version. First, we run a sigmoid layer which decides what parts of the cell state we’re going to output. Then, we put the cell state through tanh (to push the values to be between −1 and 1) and multiply it by the output of the sigmoid gate, so that we only output the parts we decided to."
   ]
  },
  {
   "cell_type": "markdown",
   "metadata": {},
   "source": [
    "After understand LSTM, we will a variants version called bidirectional LSTM."
   ]
  },
  {
   "cell_type": "code",
   "execution_count": 21,
   "metadata": {},
   "outputs": [
    {
     "data": {
      "text/html": [
       "<img src=\"https://cdn-images-1.medium.com/max/800/1*GRQ91HNASB7MAJPTTlVvfw.jpeg\" width=\"500\"/>"
      ],
      "text/plain": [
       "<IPython.core.display.Image object>"
      ]
     },
     "execution_count": 21,
     "metadata": {},
     "output_type": "execute_result"
    }
   ],
   "source": [
    "Image(url=\"https://cdn-images-1.medium.com/max/800/1*GRQ91HNASB7MAJPTTlVvfw.jpeg\", width=500)"
   ]
  },
  {
   "cell_type": "code",
   "execution_count": 53,
   "metadata": {},
   "outputs": [],
   "source": [
    "from keras.models import Model, Sequential\n",
    "from keras.layers import Dense, Embedding, Input, Conv1D, Activation,GlobalMaxPool1D, Dropout, concatenate, GlobalAveragePooling1D,Layer, InputSpec, CuDNNLSTM,BatchNormalization\n",
    "from keras.preprocessing import text, sequence\n",
    "from keras.callbacks import EarlyStopping, ModelCheckpoint\n",
    "from keras import backend as K\n",
    "from keras import activations, initializers, regularizers, constraints\n",
    "from keras.utils.conv_utils import conv_output_length\n",
    "from keras.regularizers import l2\n",
    "from keras.constraints import maxnorm\n",
    "import numpy as np \n",
    "import pandas as pd \n",
    "import bz2\n",
    "import gc\n",
    "import chardet\n",
    "import re\n",
    "import os"
   ]
  },
  {
   "cell_type": "code",
   "execution_count": 32,
   "metadata": {},
   "outputs": [],
   "source": [
    "train_file = bz2.BZ2File('data/train.ft.txt.bz2')\n",
    "test_file = bz2.BZ2File('data/test.ft.txt.bz2')\n",
    "train_file_lines = train_file.readlines()\n",
    "test_file_lines = test_file.readlines()\n",
    "del train_file, test_file"
   ]
  },
  {
   "cell_type": "markdown",
   "metadata": {},
   "source": [
    "Convert from raw binary strings to strings that can be parsed"
   ]
  },
  {
   "cell_type": "code",
   "execution_count": 33,
   "metadata": {},
   "outputs": [],
   "source": [
    "train_file_lines = [x.decode('utf-8') for x in train_file_lines]\n",
    "test_file_lines = [x.decode('utf-8') for x in test_file_lines]"
   ]
  },
  {
   "cell_type": "code",
   "execution_count": 34,
   "metadata": {},
   "outputs": [],
   "source": [
    "train_labels = [0 if x.split(' ')[0] == '__label__1' else 1 for x in train_file_lines]\n",
    "train_sentences = [x.split(' ', 1)[1][:-1].lower() for x in train_file_lines]\n",
    "\n",
    "for i in range(len(train_sentences)):\n",
    "    train_sentences[i] = re.sub('\\d','0',train_sentences[i])\n",
    "    \n",
    "test_labels = [0 if x.split(' ')[0] == '__label__1' else 1 for x in test_file_lines]\n",
    "test_sentences = [x.split(' ', 1)[1][:-1].lower() for x in test_file_lines]\n",
    "\n",
    "for i in range(len(test_sentences)):\n",
    "    test_sentences[i] = re.sub('\\d','0',test_sentences[i])\n",
    "                                                       \n",
    "for i in range(len(train_sentences)):\n",
    "    if 'www.' in train_sentences[i] or 'http:' in train_sentences[i] or 'https:' in train_sentences[i] or '.com' in train_sentences[i]:\n",
    "        train_sentences[i] = re.sub(r\"([^ ]+(?<=\\.[a-z]{3}))\", \"<url>\", train_sentences[i])\n",
    "        \n",
    "for i in range(len(test_sentences)):\n",
    "    if 'www.' in test_sentences[i] or 'http:' in test_sentences[i] or 'https:' in test_sentences[i] or '.com' in test_sentences[i]:\n",
    "        test_sentences[i] = re.sub(r\"([^ ]+(?<=\\.[a-z]{3}))\", \"<url>\", test_sentences[i])"
   ]
  },
  {
   "cell_type": "code",
   "execution_count": 35,
   "metadata": {},
   "outputs": [],
   "source": [
    "del train_file_lines, test_file_lines"
   ]
  },
  {
   "cell_type": "code",
   "execution_count": 36,
   "metadata": {},
   "outputs": [
    {
     "name": "stdout",
     "output_type": "stream",
     "text": [
      "We have 3600000 sentences in training set\n",
      "We have 400000 sentences in test set\n"
     ]
    }
   ],
   "source": [
    "print('We have',len(train_sentences),'sentences in training set')\n",
    "print('We have',len(test_sentences),'sentences in test set')"
   ]
  },
  {
   "cell_type": "code",
   "execution_count": 37,
   "metadata": {},
   "outputs": [],
   "source": [
    "# Creates a tokenizer, configured to only take into account the 1,0000 most common words\n",
    "max_features = 10000\n",
    "# Cuts off the text after this number of words (among the max_features most ommon words)\n",
    "maxlen = 128\n",
    "# we used glove embedding\n",
    "embed_size = 300"
   ]
  },
  {
   "cell_type": "code",
   "execution_count": 38,
   "metadata": {},
   "outputs": [],
   "source": [
    "tokenizer = text.Tokenizer(num_words=max_features)"
   ]
  },
  {
   "cell_type": "code",
   "execution_count": 39,
   "metadata": {},
   "outputs": [],
   "source": [
    "tokenizer.fit_on_texts(train_sentences)\n",
    "tokenized_train = tokenizer.texts_to_sequences(train_sentences)\n",
    "#Turns the lists of integers into a 2D integer tensor of shape (samples, maxlen)\n",
    "X_train = sequence.pad_sequences(tokenized_train, maxlen=maxlen)"
   ]
  },
  {
   "cell_type": "code",
   "execution_count": 40,
   "metadata": {},
   "outputs": [],
   "source": [
    "tokenized_test = tokenizer.texts_to_sequences(test_sentences)\n",
    "X_test = sequence.pad_sequences(tokenized_test, maxlen=maxlen)"
   ]
  },
  {
   "cell_type": "code",
   "execution_count": 41,
   "metadata": {},
   "outputs": [],
   "source": [
    "# # save them to save time \n",
    "# np.save('X_train.npy', X_train)\n",
    "# np.save('X_test.npy', X_test)"
   ]
  },
  {
   "cell_type": "code",
   "execution_count": 57,
   "metadata": {},
   "outputs": [
    {
     "name": "stdout",
     "output_type": "stream",
     "text": [
      "(3600000, 128)\n",
      "(400000, 128)\n"
     ]
    }
   ],
   "source": [
    "print(X_train.shape)\n",
    "print(X_test.shape)"
   ]
  },
  {
   "cell_type": "code",
   "execution_count": 43,
   "metadata": {
    "scrolled": false
   },
   "outputs": [
    {
     "name": "stdout",
     "output_type": "stream",
     "text": [
      "Found 1035526 unique tokens.\n"
     ]
    }
   ],
   "source": [
    "word_index = tokenizer.word_index\n",
    "print('Found %s unique tokens.' % len(word_index))"
   ]
  },
  {
   "cell_type": "code",
   "execution_count": 44,
   "metadata": {},
   "outputs": [],
   "source": [
    "# X_train = np.load('X_train.npy')\n",
    "# X_test = np.load('X_test.npy')\n",
    "del embeddings"
   ]
  },
  {
   "cell_type": "code",
   "execution_count": 45,
   "metadata": {},
   "outputs": [],
   "source": [
    "# EMBEDDING_FILE='data/glove.42B.300d.txt'"
   ]
  },
  {
   "cell_type": "markdown",
   "metadata": {},
   "source": [
    "## Preparing the Embedding layer\n",
    "https://blog.keras.io/using-pre-trained-word-embeddings-in-a-keras-model.html<br>\n",
    "Next, we compute an index mapping words to known embeddings, by parsing the data dump of pre-trained embeddings:"
   ]
  },
  {
   "cell_type": "code",
   "execution_count": 46,
   "metadata": {},
   "outputs": [],
   "source": [
    "# embeddings_index = {}\n",
    "# f = open('data/glove.42B.300d.txt',encoding='utf-8')\n",
    "# for line in f:\n",
    "#     values = line.split()\n",
    "#     word = values[0]\n",
    "#     coefs = np.asarray(values[1:], dtype='float32')\n",
    "#     embeddings_index[word] = coefs\n",
    "# f.close()\n",
    "# print('Found %s word vectors.' % len(embeddings_index))"
   ]
  },
  {
   "cell_type": "code",
   "execution_count": 47,
   "metadata": {},
   "outputs": [],
   "source": [
    "# embeddings_index['apple'].shape"
   ]
  },
  {
   "cell_type": "markdown",
   "metadata": {},
   "source": [
    "At this point we can leverage our embedding_index dictionary and our word_index to compute our embedding matrix:"
   ]
  },
  {
   "cell_type": "code",
   "execution_count": 81,
   "metadata": {},
   "outputs": [],
   "source": [
    "EMBEDDING_DIM=64\n",
    "# embedding_matrix = np.zeros((len(word_index) + 1, EMBEDDING_DIM))\n",
    "# for word, i in word_index.items():\n",
    "#     embedding_vector = embeddings_index.get(word)\n",
    "#     if embedding_vector is not None:\n",
    "#         # words not found in embedding index will be all-zeros.\n",
    "#         embedding_matrix[i] = embedding_vector\n",
    "\n",
    "# embedding_matrix.shape"
   ]
  },
  {
   "cell_type": "markdown",
   "metadata": {},
   "source": [
    "We load this embedding matrix into an Embedding layer. Note that we set trainable=False to prevent the weights from being updated during training."
   ]
  },
  {
   "cell_type": "code",
   "execution_count": 82,
   "metadata": {},
   "outputs": [],
   "source": [
    "from keras.layers import Embedding,Bidirectional,LSTM\n",
    "\n",
    "# embedding_layer = Embedding(len(word_index) + 1,\n",
    "#                             EMBEDDING_DIM,\n",
    "#                             weights=[embedding_matrix],\n",
    "#                             input_length=maxlen,\n",
    "#                             trainable=False)"
   ]
  },
  {
   "cell_type": "code",
   "execution_count": 88,
   "metadata": {
    "scrolled": false
   },
   "outputs": [
    {
     "name": "stdout",
     "output_type": "stream",
     "text": [
      "_________________________________________________________________\n",
      "Layer (type)                 Output Shape              Param #   \n",
      "=================================================================\n",
      "input_13 (InputLayer)        (None, 128)               0         \n",
      "_________________________________________________________________\n",
      "embedding_13 (Embedding)     (None, 128, 64)           66273728  \n",
      "_________________________________________________________________\n",
      "batch_normalization_51 (Batc (None, 128, 64)           256       \n",
      "_________________________________________________________________\n",
      "bidirectional_3 (Bidirection (None, 128, 1024)         2367488   \n",
      "_________________________________________________________________\n",
      "batch_normalization_52 (Batc (None, 128, 1024)         4096      \n",
      "_________________________________________________________________\n",
      "bidirectional_4 (Bidirection (None, 512)               2625536   \n",
      "_________________________________________________________________\n",
      "batch_normalization_53 (Batc (None, 512)               2048      \n",
      "_________________________________________________________________\n",
      "dense_6 (Dense)              (None, 128)               65664     \n",
      "_________________________________________________________________\n",
      "dropout_13 (Dropout)         (None, 128)               0         \n",
      "_________________________________________________________________\n",
      "dense_7 (Dense)              (None, 1)                 129       \n",
      "=================================================================\n",
      "Total params: 71,338,945\n",
      "Trainable params: 71,335,745\n",
      "Non-trainable params: 3,200\n",
      "_________________________________________________________________\n"
     ]
    }
   ],
   "source": [
    "def cudnnlstm_model(conv_layers = 2, max_dilation_rate = 3):\n",
    "    inp = Input(shape=(maxlen, ))\n",
    "    ########   load this embedding matrix\n",
    "    x = Embedding(len(word_index) + 1,\n",
    "                            EMBEDDING_DIM,\n",
    "#                             weights=[embedding_matrix],\n",
    "                            input_length=maxlen,\n",
    "                            trainable=True   \n",
    "                                  )(inp)\n",
    "    x = BatchNormalization()(x)\n",
    "        \n",
    "    x = Bidirectional(CuDNNLSTM(512, return_sequences=True))(x)  \n",
    "    x = BatchNormalization()(x)\n",
    "    x =Bidirectional(CuDNNLSTM(256))(x)\n",
    "    x = BatchNormalization()(x)\n",
    "\n",
    "    x = Dense(128, activation=\"relu\")(x)\n",
    "    x = Dropout(0.5)(x)\n",
    "    x = Dense(1, activation=\"sigmoid\")(x)\n",
    "    model = Model(inputs=inp, outputs=x)\n",
    "    model.compile(loss='binary_crossentropy',\n",
    "                  optimizer='adam',\n",
    "                  metrics=['binary_accuracy'])\n",
    "\n",
    "    return model\n",
    "\n",
    "cudnnlstm_model = cudnnlstm_model()\n",
    "cudnnlstm_model.summary()"
   ]
  },
  {
   "cell_type": "code",
   "execution_count": 89,
   "metadata": {},
   "outputs": [],
   "source": [
    "weight_path=\"early_weights.hdf5\"\n",
    "checkpoint = ModelCheckpoint(weight_path, monitor='val_loss', verbose=1, save_best_only=True, mode='min')\n",
    "early_stopping = EarlyStopping(monitor=\"val_loss\", mode=\"min\", patience=5)\n",
    "callbacks = [checkpoint, early_stopping]"
   ]
  },
  {
   "cell_type": "code",
   "execution_count": 92,
   "metadata": {},
   "outputs": [],
   "source": [
    "batch_size = 1024\n",
    "epochs = 5"
   ]
  },
  {
   "cell_type": "code",
   "execution_count": 93,
   "metadata": {},
   "outputs": [
    {
     "name": "stdout",
     "output_type": "stream",
     "text": [
      "Train on 3240000 samples, validate on 360000 samples\n",
      "Epoch 1/5\n",
      "3240000/3240000 [==============================] - 2415s 745us/step - loss: 0.1734 - binary_accuracy: 0.9333 - val_loss: 0.1468 - val_binary_accuracy: 0.9450\n",
      "\n",
      "Epoch 00001: val_loss improved from inf to 0.14684, saving model to early_weights.hdf5\n",
      "Epoch 2/5\n",
      "3240000/3240000 [==============================] - 2416s 746us/step - loss: 0.1325 - binary_accuracy: 0.9515 - val_loss: 0.1298 - val_binary_accuracy: 0.9529\n",
      "\n",
      "Epoch 00002: val_loss improved from 0.14684 to 0.12981, saving model to early_weights.hdf5\n",
      "Epoch 3/5\n",
      "3240000/3240000 [==============================] - 2416s 746us/step - loss: 0.1173 - binary_accuracy: 0.9578 - val_loss: 0.1220 - val_binary_accuracy: 0.9554\n",
      "\n",
      "Epoch 00003: val_loss improved from 0.12981 to 0.12200, saving model to early_weights.hdf5\n",
      "Epoch 4/5\n",
      "3240000/3240000 [==============================] - 2416s 746us/step - loss: 0.1051 - binary_accuracy: 0.9627 - val_loss: 0.1232 - val_binary_accuracy: 0.9554\n",
      "\n",
      "Epoch 00004: val_loss did not improve from 0.12200\n",
      "Epoch 5/5\n",
      "3240000/3240000 [==============================] - 2416s 746us/step - loss: 0.0935 - binary_accuracy: 0.9674 - val_loss: 0.1314 - val_binary_accuracy: 0.9548\n",
      "\n",
      "Epoch 00005: val_loss did not improve from 0.12200\n"
     ]
    },
    {
     "data": {
      "text/plain": [
       "<keras.callbacks.History at 0x2aadac83d940>"
      ]
     },
     "execution_count": 93,
     "metadata": {},
     "output_type": "execute_result"
    }
   ],
   "source": [
    "cudnnlstm_model.fit(X_train, train_labels, \n",
    "                    batch_size=batch_size, \n",
    "                    epochs=epochs, \n",
    "                    shuffle = True, validation_split=0.10, \n",
    "                    callbacks=callbacks)"
   ]
  },
  {
   "cell_type": "markdown",
   "metadata": {},
   "source": [
    ".....40 mins per Epoch"
   ]
  },
  {
   "cell_type": "code",
   "execution_count": 94,
   "metadata": {},
   "outputs": [
    {
     "name": "stdout",
     "output_type": "stream",
     "text": [
      "400000/400000 [==============================] - 106s 266us/step\n",
      "Test score: 0.12461265060424805\n",
      "Test accuracy: 0.954320000038147\n"
     ]
    }
   ],
   "source": [
    "cudnnlstm_model.load_weights(weight_path)\n",
    "score, acc = cudnnlstm_model.evaluate(X_test, test_labels, batch_size=batch_size)\n",
    "print('Test score:', score)\n",
    "print('Test accuracy:', acc)"
   ]
  },
  {
   "cell_type": "markdown",
   "metadata": {},
   "source": [
    "## Sequence processing with 1D-CNN"
   ]
  },
  {
   "cell_type": "code",
   "execution_count": 4,
   "metadata": {},
   "outputs": [
    {
     "data": {
      "text/html": [
       "<img src=\"https://cdn-images-1.medium.com/max/1600/1*aBN2Ir7y2E-t2AbekOtEIw.png\" width=\"900\"/>"
      ],
      "text/plain": [
       "<IPython.core.display.Image object>"
      ]
     },
     "execution_count": 4,
     "metadata": {},
     "output_type": "execute_result"
    }
   ],
   "source": [
    "Image(url=\"https://cdn-images-1.medium.com/max/1600/1*aBN2Ir7y2E-t2AbekOtEIw.png\", width=900)"
   ]
  },
  {
   "cell_type": "code",
   "execution_count": 75,
   "metadata": {},
   "outputs": [
    {
     "name": "stdout",
     "output_type": "stream",
     "text": [
      "_________________________________________________________________\n",
      "Layer (type)                 Output Shape              Param #   \n",
      "=================================================================\n",
      "input_11 (InputLayer)        (None, 128)               0         \n",
      "_________________________________________________________________\n",
      "embedding_11 (Embedding)     (None, 128, 64)           640000    \n",
      "_________________________________________________________________\n",
      "dropout_11 (Dropout)         (None, 128, 64)           0         \n",
      "_________________________________________________________________\n",
      "batch_normalization_46 (Batc (None, 128, 64)           256       \n",
      "_________________________________________________________________\n",
      "conv1d_44 (Conv1D)           (None, 128, 32)           14368     \n",
      "_________________________________________________________________\n",
      "batch_normalization_47 (Batc (None, 128, 32)           128       \n",
      "_________________________________________________________________\n",
      "conv1d_45 (Conv1D)           (None, 128, 32)           3104      \n",
      "_________________________________________________________________\n",
      "batch_normalization_48 (Batc (None, 128, 32)           128       \n",
      "_________________________________________________________________\n",
      "conv1d_46 (Conv1D)           (None, 128, 32)           3104      \n",
      "_________________________________________________________________\n",
      "batch_normalization_49 (Batc (None, 128, 32)           128       \n",
      "_________________________________________________________________\n",
      "conv1d_47 (Conv1D)           (None, 128, 32)           3104      \n",
      "_________________________________________________________________\n",
      "batch_normalization_50 (Batc (None, 128, 32)           128       \n",
      "_________________________________________________________________\n",
      "conv1d_48 (Conv1D)           (None, 128, 2)            66        \n",
      "_________________________________________________________________\n",
      "global_average_pooling1d_9 ( (None, 2)                 0         \n",
      "_________________________________________________________________\n",
      "dense_3 (Dense)              (None, 1)                 3         \n",
      "=================================================================\n",
      "Total params: 664,517\n",
      "Trainable params: 664,133\n",
      "Non-trainable params: 384\n",
      "_________________________________________________________________\n"
     ]
    }
   ],
   "source": [
    "input = Input(shape=(maxlen,))\n",
    "net = Embedding(max_features, 64)(input)\n",
    "net = Dropout(0.2)(net)\n",
    "net = BatchNormalization()(net)\n",
    "\n",
    "net = Conv1D(32, 7, padding='same', activation='relu')(net)\n",
    "net = BatchNormalization()(net)\n",
    "net = Conv1D(32, 3, padding='same', activation='relu')(net)\n",
    "net = BatchNormalization()(net)\n",
    "net = Conv1D(32, 3, padding='same', activation='relu')(net)\n",
    "net = BatchNormalization()(net)\n",
    "net = Conv1D(32, 3, padding='same', activation='relu')(net)\n",
    "net = BatchNormalization()(net)\n",
    "\n",
    "net = Conv1D(2, 1)(net)\n",
    "net = GlobalAveragePooling1D()(net)\n",
    "net = Dense(1, activation=\"sigmoid\")(net)\n",
    "output =net\n",
    "model = Model(inputs = input, outputs = output)\n",
    "model.compile(optimizer='adam', loss='binary_crossentropy', metrics=['acc'])\n",
    "model.summary()"
   ]
  },
  {
   "cell_type": "code",
   "execution_count": 76,
   "metadata": {},
   "outputs": [],
   "source": [
    "weight_path=\"cnn1d_weights.hdf5\"\n",
    "checkpoint = ModelCheckpoint(weight_path, monitor='val_loss', verbose=1, save_best_only=True, mode='min')\n",
    "early_stopping = EarlyStopping(monitor=\"val_loss\", mode=\"min\", patience=2)\n",
    "callbacks = [checkpoint, early_stopping]"
   ]
  },
  {
   "cell_type": "code",
   "execution_count": 77,
   "metadata": {},
   "outputs": [
    {
     "name": "stdout",
     "output_type": "stream",
     "text": [
      "Train on 3240000 samples, validate on 360000 samples\n",
      "Epoch 1/5\n",
      "3240000/3240000 [==============================] - 75s 23us/step - loss: 0.1841 - acc: 0.9287 - val_loss: 0.1526 - val_acc: 0.9440\n",
      "\n",
      "Epoch 00001: val_loss improved from inf to 0.15260, saving model to cnn1d_weights.hdf5\n",
      "Epoch 2/5\n",
      "3240000/3240000 [==============================] - 72s 22us/step - loss: 0.1488 - acc: 0.9451 - val_loss: 0.1482 - val_acc: 0.9456\n",
      "\n",
      "Epoch 00002: val_loss improved from 0.15260 to 0.14817, saving model to cnn1d_weights.hdf5\n",
      "Epoch 3/5\n",
      "3240000/3240000 [==============================] - 72s 22us/step - loss: 0.1392 - acc: 0.9489 - val_loss: 0.1430 - val_acc: 0.9483\n",
      "\n",
      "Epoch 00003: val_loss improved from 0.14817 to 0.14296, saving model to cnn1d_weights.hdf5\n",
      "Epoch 4/5\n",
      "3240000/3240000 [==============================] - 72s 22us/step - loss: 0.1328 - acc: 0.9516 - val_loss: 0.1429 - val_acc: 0.9480\n",
      "\n",
      "Epoch 00004: val_loss improved from 0.14296 to 0.14289, saving model to cnn1d_weights.hdf5\n",
      "Epoch 5/5\n",
      "3240000/3240000 [==============================] - 72s 22us/step - loss: 0.1280 - acc: 0.9536 - val_loss: 0.1484 - val_acc: 0.9466\n",
      "\n",
      "Epoch 00005: val_loss did not improve from 0.14289\n"
     ]
    },
    {
     "data": {
      "text/plain": [
       "<keras.callbacks.History at 0x2aadacd66b38>"
      ]
     },
     "execution_count": 77,
     "metadata": {},
     "output_type": "execute_result"
    }
   ],
   "source": [
    "model.fit(X_train, train_labels, batch_size=2048, epochs=5, validation_split=0.1,callbacks=callbacks)"
   ]
  },
  {
   "cell_type": "code",
   "execution_count": 79,
   "metadata": {},
   "outputs": [
    {
     "name": "stdout",
     "output_type": "stream",
     "text": [
      "400000/400000 [==============================] - 3s 8us/step\n",
      "Test score: 0.1450945812368393\n",
      "Test accuracy: 0.9470975\n"
     ]
    }
   ],
   "source": [
    "model.load_weights(weight_path)\n",
    "score, acc = model.evaluate(X_test, test_labels, batch_size=1024)\n",
    "print('Test score:', score)\n",
    "print('Test accuracy:', acc)"
   ]
  },
  {
   "cell_type": "markdown",
   "metadata": {},
   "source": [
    "Using 1-D convolution, we achieve almost the same accuracy compared with LSTM (94.7% vs 95.4%). But the training time was reduced a lot! (2415/epoch vs 72s/epoch)"
   ]
  },
  {
   "cell_type": "code",
   "execution_count": null,
   "metadata": {},
   "outputs": [],
   "source": []
  }
 ],
 "metadata": {
  "kernelspec": {
   "display_name": "Python 3",
   "language": "python",
   "name": "python3"
  },
  "language_info": {
   "codemirror_mode": {
    "name": "ipython",
    "version": 3
   },
   "file_extension": ".py",
   "mimetype": "text/x-python",
   "name": "python",
   "nbconvert_exporter": "python",
   "pygments_lexer": "ipython3",
   "version": "3.6.5"
  },
  "latex_envs": {
   "LaTeX_envs_menu_present": true,
   "autoclose": false,
   "autocomplete": true,
   "bibliofile": "biblio.bib",
   "cite_by": "apalike",
   "current_citInitial": 1,
   "eqLabelWithNumbers": true,
   "eqNumInitial": 1,
   "hotkeys": {
    "equation": "Ctrl-E",
    "itemize": "Ctrl-I"
   },
   "labels_anchors": false,
   "latex_user_defs": false,
   "report_style_numbering": false,
   "user_envs_cfg": false
  },
  "varInspector": {
   "cols": {
    "lenName": 16,
    "lenType": 16,
    "lenVar": 40
   },
   "kernels_config": {
    "python": {
     "delete_cmd_postfix": "",
     "delete_cmd_prefix": "del ",
     "library": "var_list.py",
     "varRefreshCmd": "print(var_dic_list())"
    },
    "r": {
     "delete_cmd_postfix": ") ",
     "delete_cmd_prefix": "rm(",
     "library": "var_list.r",
     "varRefreshCmd": "cat(var_dic_list()) "
    }
   },
   "types_to_exclude": [
    "module",
    "function",
    "builtin_function_or_method",
    "instance",
    "_Feature"
   ],
   "window_display": false
  }
 },
 "nbformat": 4,
 "nbformat_minor": 2
}
